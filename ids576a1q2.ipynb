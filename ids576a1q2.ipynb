{
 "cells": [
  {
   "cell_type": "markdown",
   "metadata": {},
   "source": [
    "## Write a function to compute the mean squared error between a prediction and ground truth assuming both are numpy arrays (see python module numpy)."
   ]
  },
  {
   "cell_type": "code",
   "execution_count": 133,
   "metadata": {
    "collapsed": false
   },
   "outputs": [],
   "source": [
    "import numpy as np\n",
    "np.random.seed(0)\n",
    "\n",
    "def computeMSE(prediction, groundTruth):\n",
    "    print prediction\n",
    "    mse = ((prediction - groundTruth) ** 2).mean()\n",
    "    return mse"
   ]
  },
  {
   "cell_type": "markdown",
   "metadata": {},
   "source": [
    "## Consider a model: y = mx + c, where the model parameter m = 1 and parameter c = 0 and x 2 (0; 1). Plot the function."
   ]
  },
  {
   "cell_type": "code",
   "execution_count": 134,
   "metadata": {
    "collapsed": false
   },
   "outputs": [
    {
     "data": {
      "image/png": "[encoded data removed]",
      "text/plain": [
       "<matplotlib.figure.Figure at 0x9b5db70>"
      ]
     },
     "metadata": {},
     "output_type": "display_data"
    }
   ],
   "source": [
    "%matplotlib inline\n",
    "\n",
    "import matplotlib.pyplot as plt\n",
    "plt.plot([0,1]) # y=x\n",
    "plt.ylabel('y = mx + c')\n",
    "plt.xlabel('x')\n",
    "plt.show()"
   ]
  },
  {
   "cell_type": "markdown",
   "metadata": {},
   "source": [
    "## Generate example data by drawing N = 100 uniform values from the range in which x lies and compute the corresponding y to get fxi; yigNi =1."
   ]
  },
  {
   "cell_type": "code",
   "execution_count": 135,
   "metadata": {
    "collapsed": false
   },
   "outputs": [],
   "source": [
    "import numpy as np\n",
    "\n",
    "X = np.random.uniform(0,1,100)\n",
    "# when m=1 and c=0 ;  y = x;\n",
    "\n",
    "X = np.reshape(X,(100,1))\n",
    "y = X\n",
    "data = np.hstack((X,y))\n",
    "intercept = np.reshape(np.ones(100),(100,1))\n",
    "X = np.hstack((X,intercept))"
   ]
  },
  {
   "cell_type": "markdown",
   "metadata": {},
   "source": [
    "## Assuming that you do not know the model, use backpropagation and gradient descent updates to find the model parameters (choose an appropriate learning rate).The loss function will be the mean squared error."
   ]
  },
  {
   "cell_type": "code",
   "execution_count": 136,
   "metadata": {
    "collapsed": false
   },
   "outputs": [],
   "source": [
    "def cost_function(X, y, theta):\n",
    "\n",
    "    ## number of training examples\n",
    "    m = len(y) \n",
    "    \n",
    "    ## Calculate the cost with the given parameters\n",
    "    J = np.sum((X.dot(theta)-y)**2)/2/m\n",
    "    \n",
    "    return J"
   ]
  },
  {
   "cell_type": "code",
   "execution_count": 137,
   "metadata": {
    "collapsed": false
   },
   "outputs": [],
   "source": [
    "def gradient_descent(X, y, theta, alpha, iterations):\n",
    "   \n",
    "    cost_history = [0] * iterations\n",
    "    \n",
    "    for iteration in range(iterations):\n",
    "        hypothesis = X.dot(theta)\n",
    "        loss = hypothesis-y\n",
    "        gradient = X.T.dot(loss)/m\n",
    "        theta = theta - alpha*gradient\n",
    "        cost = cost_function(X, y, theta)\n",
    "        cost_history[iteration] = cost\n",
    "\n",
    "    return theta, cost_history"
   ]
  },
  {
   "cell_type": "code",
   "execution_count": 138,
   "metadata": {
    "collapsed": false
   },
   "outputs": [
    {
     "name": "stdout",
     "output_type": "stream",
     "text": [
      "[ 0.9721888  0.014094 ]\n"
     ]
    }
   ],
   "source": [
    "y_df = y\n",
    "\n",
    "## Length, or number of observations, in our data\n",
    "m = len(y_df)\n",
    "\n",
    "iterations = 5000\n",
    "alpha = 0.01\n",
    "\n",
    "\n",
    "y = np.array(y_df).flatten()\n",
    "theta = np.array([0, 0])\n",
    "\n",
    "(t, c) = gradient_descent(X,y,theta,alpha, iterations)\n",
    "## Print theta parameters\n",
    "print t"
   ]
  },
  {
   "cell_type": "markdown",
   "metadata": {
    "collapsed": true
   },
   "source": [
    "## Plot the error in the estimates as a function of the number of iterations of gradient update (use python package called matplotlib). Change the learning rate and plot another curve on the previous plot."
   ]
  },
  {
   "cell_type": "code",
   "execution_count": 139,
   "metadata": {
    "collapsed": false
   },
   "outputs": [
    {
     "data": {
      "image/png": "[encoded data removed]",
      "text/plain": [
       "<matplotlib.figure.Figure at 0xa270f28>"
      ]
     },
     "metadata": {},
     "output_type": "display_data"
    }
   ],
   "source": [
    "import matplotlib.pyplot as plt\n",
    "xaxis= list(xrange(iterations))\n",
    "yaxis= list(c)\n",
    "\n",
    "np.shape(xaxis)\n",
    "np.shape(yaxis)\n",
    "plt.plot(xaxis,yaxis, '-')\n",
    "plt.show()"
   ]
  },
  {
   "cell_type": "markdown",
   "metadata": {},
   "source": [
    "## Do steps 3-5 when the model is y = m1x + m2x2 + c and the true parameters are m1 = 0:5, m2 = 1 and c = 1. And x 2 (0; 1). Also, plot the ground truth function."
   ]
  },
  {
   "cell_type": "code",
   "execution_count": 140,
   "metadata": {
    "collapsed": false
   },
   "outputs": [
    {
     "name": "stdout",
     "output_type": "stream",
     "text": [
      "[ 0.98228765  0.59349159  0.91080418]\n"
     ]
    }
   ],
   "source": [
    "X = np.random.uniform(0,1,100)\n",
    "X2 = X**2\n",
    "X = np.reshape(X,(100,1))\n",
    "X2 = np.reshape(X2,(100,1))\n",
    "\n",
    "y = 0.5*X + X2 + 1\n",
    "intercept = np.reshape(np.ones(100),(100,1))\n",
    "X = np.hstack((intercept, X))\n",
    "X = np.hstack((X,X2))\n",
    "\n",
    "y_df = y\n",
    "\n",
    "## Length, or number of observations, in our data\n",
    "m = len(y_df)\n",
    "\n",
    "iterations = 50000\n",
    "alpha = 0.01\n",
    "\n",
    "\n",
    "y = np.array(y_df).flatten()\n",
    "theta = np.array([0, 0, 0])\n",
    "\n",
    "(t, c) = gradient_descent(X,y,theta,alpha, iterations)\n",
    "## Print theta parameters\n",
    "print t"
   ]
  },
  {
   "cell_type": "markdown",
   "metadata": {},
   "source": [
    "## Do steps 3-5 when the model is y = tanh(m \u0003 x + c) and the true parameters are m = 1 and c = 2. And x 2 (0; 2). Also, plot the ground truth function."
   ]
  },
  {
   "cell_type": "code",
   "execution_count": 142,
   "metadata": {
    "collapsed": false
   },
   "outputs": [
    {
     "name": "stdout",
     "output_type": "stream",
     "text": [
      "[ 0.97620036  0.01498195]\n"
     ]
    }
   ],
   "source": [
    "X = np.random.uniform(0,2,100)\n",
    "X = np.reshape(X,(100,1))\n",
    "\n",
    "y = np.tanh(X + 2)\n",
    "\n",
    "ones = np.ones(100)\n",
    "intercept = np.reshape(ones,(100,1))\n",
    "X = np.hstack((intercept, X))\n",
    "\n",
    "y_df = y\n",
    "\n",
    "## Length, or number of observations, in our data\n",
    "m = len(y_df)\n",
    "\n",
    "iterations = 20000\n",
    "alpha = 0.01\n",
    "\n",
    "\n",
    "y = np.array(y_df).flatten()\n",
    "theta = np.array([0, 0])\n",
    "\n",
    "(t, c) = gradient_descent(X,y,theta,alpha, iterations)\n",
    "## Print theta parameters\n",
    "print t"
   ]
  }
 ],
 "metadata": {
  "kernelspec": {
   "display_name": "Python 2",
   "language": "python",
   "name": "python2"
  },
  "language_info": {
   "codemirror_mode": {
    "name": "ipython",
    "version": 2
   },
   "file_extension": ".py",
   "mimetype": "text/x-python",
   "name": "python",
   "nbconvert_exporter": "python",
   "pygments_lexer": "ipython2",
   "version": "2.7.12"
  }
 },
 "nbformat": 4,
 "nbformat_minor": 0
}
